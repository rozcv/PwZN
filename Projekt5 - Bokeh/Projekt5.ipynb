{
 "cells": [
  {
   "cell_type": "code",
   "execution_count": 1,
   "id": "23c6a5bf-f845-4cab-8244-99c67aaeac0a",
   "metadata": {},
   "outputs": [
    {
     "ename": "NameError",
     "evalue": "name 'output_notebook' is not defined",
     "output_type": "error",
     "traceback": [
      "\u001b[1;31m---------------------------------------------------------------------------\u001b[0m",
      "\u001b[1;31mNameError\u001b[0m                                 Traceback (most recent call last)",
      "Input \u001b[1;32mIn [1]\u001b[0m, in \u001b[0;36m<module>\u001b[1;34m\u001b[0m\n\u001b[0;32m      4\u001b[0m \u001b[38;5;28;01mfrom\u001b[39;00m \u001b[38;5;21;01mbokeh\u001b[39;00m\u001b[38;5;21;01m.\u001b[39;00m\u001b[38;5;21;01mplotting\u001b[39;00m \u001b[38;5;28;01mimport\u001b[39;00m figure, show\n\u001b[0;32m      5\u001b[0m \u001b[38;5;28;01mfrom\u001b[39;00m \u001b[38;5;21;01mbokeh\u001b[39;00m\u001b[38;5;21;01m.\u001b[39;00m\u001b[38;5;21;01mtransform\u001b[39;00m \u001b[38;5;28;01mimport\u001b[39;00m cumsum\n\u001b[1;32m----> 7\u001b[0m \u001b[43moutput_notebook\u001b[49m()\n",
      "\u001b[1;31mNameError\u001b[0m: name 'output_notebook' is not defined"
     ]
    }
   ],
   "source": [
    "from math import pi\n",
    "import pandas as pd\n",
    "from bokeh.palettes import Category20b\n",
    "from bokeh.plotting import figure, show\n",
    "from bokeh.transform import cumsum\n",
    "\n",
    "output_notebook()"
   ]
  },
  {
   "cell_type": "code",
   "execution_count": null,
   "id": "38d4c550-c4a2-4ad9-9635-3276b824fa36",
   "metadata": {},
   "outputs": [],
   "source": [
    "x = {\n",
    "    'Tlen': 65,\n",
    "    'Węgiel': 18.5,\n",
    "    'Wodór': 9.5,\n",
    "    'Azot': 3,\n",
    "    'Wapń': 1.5,\n",
    "    'Fosfor': 1,\n",
    "    'Potas': 0.4,\n",
    "    'Siarka': 0.3,\n",
    "    'Sód': 0.2,\n",
    "    'Chlor': 0.2,\n",
    "    'Magnez': 0.1,\n",
    "    'Pozostałe': 1\n",
    "}"
   ]
  },
  {
   "cell_type": "code",
   "execution_count": null,
   "id": "8c14be66-3367-4c01-889d-73e90eddbfde",
   "metadata": {},
   "outputs": [],
   "source": [
    "data = pd.Series(x).reset_index(name='value').rename(columns={'index': 'country'})\n",
    "data['angle'] = data['value']/data['value'].sum() * 2*pi\n",
    "data['color'] = Category20b[len(x)]\n"
   ]
  },
  {
   "cell_type": "code",
   "execution_count": null,
   "id": "ebb99676-e3f2-4731-8ef4-dc5940771aa5",
   "metadata": {},
   "outputs": [],
   "source": [
    "p = figure(height=350, title=\"Pierwiastki z których składa się człowiek\", toolbar_location=None,\n",
    "           tools=\"hover\", tooltips=\"@country: @value\", x_range=(-0.5, 1.0))\n",
    "\n",
    "p.wedge(x=0, y=1, radius=0.4,\n",
    "        start_angle=cumsum('angle', include_zero=True), end_angle=cumsum('angle'),\n",
    "        line_color=\"white\", fill_color='color', legend_field='country', source=data)\n",
    "\n",
    "p.axis.axis_label = None\n",
    "p.axis.visible = False\n",
    "p.grid.grid_line_color = None\n",
    "\n",
    "show(p)"
   ]
  },
  {
   "cell_type": "code",
   "execution_count": null,
   "id": "c8e7c7b3-f0b7-4a08-b037-17bb37edab50",
   "metadata": {},
   "outputs": [],
   "source": [
    "from bokeh.io import show\n",
    "from bokeh.models import ColumnDataSource\n",
    "from bokeh.palettes import Spectral10\n",
    "from bokeh.plotting import figure\n",
    "from bokeh.transform import factor_cmap"
   ]
  },
  {
   "cell_type": "code",
   "execution_count": null,
   "id": "04ae08be-0850-42a4-894e-5f0f45f760d5",
   "metadata": {},
   "outputs": [],
   "source": [
    "drzewa = ['Sosna', 'Świerk', 'Jodła', 'Dąb', 'Buk', 'Grab','Brzoza','Olsza','Osika','Topola']\n",
    "counts = [5461,575,272,649,512,118,666,489,67,8]\n",
    "\n",
    "source = ColumnDataSource(data=dict(drzewa=drzewa, counts=counts))\n",
    "\n",
    "p = figure(x_range=drzewa, height=500, toolbar_location=None, title=\"Ilość w tys.ha gatunów drzew w Polsce w 2012 roku\")\n",
    "p.vbar(x='drzewa', top='counts', width=0.9, source=source, legend_field=\"counts\",\n",
    "       line_color='white', fill_color=factor_cmap('drzewa', palette=Spectral10, factors=drzewa))\n"
   ]
  },
  {
   "cell_type": "code",
   "execution_count": null,
   "id": "a7cda130-3510-4be7-a88b-544ebc0cf200",
   "metadata": {},
   "outputs": [],
   "source": [
    "p.xgrid.grid_line_color = None\n",
    "p.y_range.start = 0\n",
    "p.y_range.end = 6000\n",
    "p.legend.location = \"top_right\"\n",
    "\n",
    "show(p)"
   ]
  },
  {
   "cell_type": "code",
   "execution_count": null,
   "id": "9d8181e6-a649-40b5-a9b1-1bb3280b8baf",
   "metadata": {},
   "outputs": [],
   "source": [
    "factors = [\"Season 1\", \"Season 2\", \"Season 3\", \"Season 4\", \"Season 5\", \"Season 6\", \"Season 7\", \"Season 8\",\"Season 9\"]\n",
    "x =  [7.74,8.43,8.44,7.7,8.29,7.31,7.8,6.29,7.17]\n",
    "\n",
    "p = figure(title=\"Ratings of the series The Office (USA) according to Wikipedia\", tools=\"\", toolbar_location=None,\n",
    "           y_range=factors, x_range=[0,10])\n",
    "\n",
    "p.segment(0, factors, x, factors, line_width=2, line_color=\"black\", )\n",
    "p.circle(x, factors, size=10, fill_color=\"pink\", line_color=\"black\", line_width=2, )\n",
    "\n",
    "show(p)"
   ]
  }
 ],
 "metadata": {
  "kernelspec": {
   "display_name": "Python 3 (ipykernel)",
   "language": "python",
   "name": "python3"
  },
  "language_info": {
   "codemirror_mode": {
    "name": "ipython",
    "version": 3
   },
   "file_extension": ".py",
   "mimetype": "text/x-python",
   "name": "python",
   "nbconvert_exporter": "python",
   "pygments_lexer": "ipython3",
   "version": "3.9.2"
  }
 },
 "nbformat": 4,
 "nbformat_minor": 5
}
